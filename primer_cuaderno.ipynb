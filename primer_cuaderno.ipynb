{
 "cells": [
  {
   "cell_type": "markdown",
   "metadata": {},
   "source": [
    "Lo primero es el webscrapping"
   ]
  },
  {
   "cell_type": "markdown",
   "metadata": {},
   "source": [
    "Cargas el siguiente cuadro y en el navegador que se abre vas a la página que deseas leer y luego presionas \"Guardar html\", le pones el nombre que corresponda según el cuadro de código que lo leerá y ya está, tienes que asegurarte de hacer eso con todas las cuentas"
   ]
  },
  {
   "cell_type": "code",
   "execution_count": 1,
   "metadata": {},
   "outputs": [
    {
     "ename": "",
     "evalue": "",
     "output_type": "error",
     "traceback": [
      "\u001b[1;31mThe Kernel crashed while executing code in the the current cell or a previous cell. Please review the code in the cell(s) to identify a possible cause of the failure. Click <a href='https://aka.ms/vscodeJupyterKernelCrash'>here</a> for more info. View Jupyter <a href='command:jupyter.viewOutput'>log</a> for further details."
     ]
    }
   ],
   "source": [
    "#intento de scrapping de cuentas con metodo nuevo (estoy intentando inventar un método para mejorar el scrapping)#\n",
    "\n",
    "# Importamos las librerias necesarias\n",
    "from sys import argv\n",
    "from PyQt5.QtWebEngineWidgets import QWebEngineView\n",
    "from PyQt5.QtWidgets import QWidget, QApplication, QLineEdit, QVBoxLayout, QHBoxLayout, QPushButton, QProgressBar,QFileDialog\n",
    "from PyQt5.QtCore import QUrl, QEventLoop, pyqtSignal, pyqtSlot\n",
    "\n",
    "class PyChrome(QWidget):\n",
    "    htmlFinished = pyqtSignal()\n",
    "    def __init__(self):\n",
    "        super().__init__()\n",
    "\n",
    "        # Comenzamos definiendo algunas caracteristicas de la ventana\n",
    "        self.resize(740, 520)  # Tamaño de la ventana\n",
    "        self.setWindowTitle('Datasea')  # Titulo de la ventana... como es para extraer datos por ahora se me ocurrió un nombre como \"datasea\"\n",
    "\n",
    "        # Creamos la barra de busqueda\n",
    "        # la variable page sera el texto por defecto\n",
    "        page = \"https://www.paypal.com/myaccount/activities/?free_text_search=&start_date=2022-01-01&end_date=2022-06-22&type=&status=&currency=&filter_id=&issuance_product_name=&asset_names=&asset_symbols=\"\n",
    "        self.url = QLineEdit(page)\n",
    "        self.url.setPlaceholderText(page)\n",
    "\n",
    "        # Creamos el boton 'atras'\n",
    "        self.back = QPushButton(\"Atras\")\n",
    "        self.back.clicked.connect(self.pagina_anterior)\n",
    "\n",
    "        # Creamos el boton que iniciara la busqueda\n",
    "        self.go = QPushButton(\"Ir\")\n",
    "        self.go.clicked.connect(self.btnIrClicked)\n",
    "\n",
    "        # Boton de marcadores\n",
    "        self.save_marker = QPushButton(\"Guardar\")\n",
    "        self.save_marker.clicked.connect(self.guardar_marcador)\n",
    "\n",
    "        #boton para obtener html\n",
    "        self.mHtml = \"\"\n",
    "        self.save_html = QPushButton(\"Guardar html\") #\"guardar html\"\n",
    "        self.save_html.clicked.connect(self.save_file)\n",
    "        \n",
    "        #boton: ir a la cuenta del banreservas\n",
    "        self.mHtml = \"\"\n",
    "        self.go_banreservas = QPushButton(\"Ir Banreservas\") #\"guardar html\"\n",
    "        self.go_banreservas.clicked.connect(self.btnIrReservas)\n",
    "        \n",
    "        # Generamos un QHBoxLayout y agregamos los widget creados anteriormente\n",
    "        self.nav_bar = QHBoxLayout()\n",
    "        self.nav_bar.addWidget(self.back)\n",
    "        self.nav_bar.addWidget(self.url)\n",
    "        self.nav_bar.addWidget(self.go)\n",
    "        self.nav_bar.addWidget(self.save_marker)\n",
    "        self.nav_bar.addWidget(self.save_html)\n",
    "        self.nav_bar.addWidget(self.go_banreservas)\n",
    "        \n",
    "        # Barra de progreso\n",
    "        self.progress = QProgressBar()\n",
    "        self.progress.setValue(0)\n",
    "\n",
    "        # # Cuerpo HTML que mostraremos al iniciar la pagina\n",
    "        html = \"\"\"\n",
    "        <!DOCTYPE HTML>\n",
    "            <html>\n",
    "                <head>\n",
    "                    <title>AdventistaADE</title>\n",
    "                </head>\n",
    "                <body>\n",
    "                <style>\n",
    "                    *{\n",
    "                    font-family: Arial;\n",
    "                    }\n",
    "                </style>\n",
    "                    <h1>Oceano de datos (Datasea)</h1>\n",
    "                    <img src=\"\"/>\n",
    "                    <p>Bienvenido al oceano de datos, tu herramienta para hacer webscrapping; tu propio navegador Saulecast\n",
    "                </body>\n",
    "            </html>\n",
    "        \"\"\"\n",
    "\n",
    "        # Asignamos el cuerpo HTML por defecto que hemos escrito\n",
    "        self.web_view = QWebEngineView()\n",
    "        self.web_view.loadProgress.connect(self.webLoading)\n",
    "        self.web_view.setHtml(html)\n",
    "\n",
    "        # Creamos un QVBoxLayout y agregamos la barra de navegación, el cuadro de la pagina y la barra de progreso\n",
    "        root = QVBoxLayout()\n",
    "        root.addLayout(self.nav_bar)\n",
    "        root.addWidget(self.web_view)\n",
    "        root.addWidget(self.progress)\n",
    "        self.setLayout(root)\n",
    "        \n",
    "        self.web_view.loadFinished.connect(self.on_loadFinished)\n",
    "\n",
    "\n",
    "    def callback(self, html):\n",
    "        self.mHtml = html\n",
    "        self.htmlFinished.emit()\n",
    "\n",
    "    def save_file(self):\n",
    "        filename, _ = QFileDialog.getSaveFileName(self, \"Save Page As\", \"\", \"Hypertext Markup Language (*.htm *.html);;\" \"All files(*.*)\")\n",
    "        if filename:\n",
    "            self.web_view.page().toHtml(self.callback)\n",
    "            loop = QEventLoop()\n",
    "            self.htmlFinished.connect(loop.quit)\n",
    "            loop.exec_()\n",
    "            with open(filename, 'w', encoding=\"utf-8\") as f:\n",
    "                f.write(self.mHtml)\n",
    "    \n",
    "    def btnIrReservas(self,event):\n",
    "        url = QUrl(\"https://www.banreservas.com.do/TuBancoPersonas/Default.aspx\")\n",
    "        self.web_view.page().load(url)\n",
    "    \n",
    "    # Creamos una función que sera la que hara la busqueda de la pagina\n",
    "    def btnIrClicked(self, event):\n",
    "        url = QUrl(self.url.text())\n",
    "        self.web_view.page().load(url)\n",
    "\n",
    "    # Actualizamos el valor de la barra de progreso\n",
    "    def webLoading(self, event):\n",
    "        self.progress.setValue(event)\n",
    "\n",
    "    def pagina_anterior(self): #hay que diseñar esta función\n",
    "        pass \n",
    "    def guardar_marcador(self): #hay que diseñar esta función\n",
    "        print(self.url.text())\n",
    "        \n",
    "    \n",
    "    @pyqtSlot(bool)\n",
    "    def on_loadFinished(self, ok):\n",
    "        if not ok:\n",
    "            return\n",
    "        xpath = r'//*[@id=\"forgotPassword\"]'\n",
    "        s = (\n",
    "            \"\"\"\n",
    "            (function() {\n",
    "                var banner = document.evaluate(\"%s\", document, null, XPathResult.FIRST_ORDERED_NODE_TYPE, null).singleNodeValue;\n",
    "                banner.click()\n",
    "            })()\"\"\"\n",
    "            % xpath\n",
    "        )\n",
    "        self.web_view.page().runJavaScript(s)\n",
    "\n",
    "\n",
    "\n",
    "if __name__ == '__main__':\n",
    "    # Creamos la instancia de la clase creada y mostramos la ventana en pantalla\n",
    "    app = QApplication(argv)\n",
    "    win = PyChrome()\n",
    "    win.show()\n",
    "    win.btnIrClicked(\"evento\")\n",
    "    app.exec_()\n",
    "    del app\n"
   ]
  },
  {
   "cell_type": "code",
   "execution_count": 4,
   "metadata": {},
   "outputs": [],
   "source": [
    "# Importaciones\n",
    "from bs4 import BeautifulSoup\n",
    "import pandas as pd\n"
   ]
  },
  {
   "cell_type": "markdown",
   "metadata": {},
   "source": [
    "Empezamos las lecturas de los html, cada cuadro lee una cuenta diferente y empezamos por paypal. Al leer los html con bs4 luego se guarda la información seleccionada, organizada y clasificada en un .csv\n",
    "\n",
    "Algunas cuentas como las del banreservas es mejor solo exportar el csv que te ofrece la página (paypal también ofrece pero me pareció insuficiente así que mejor extraje de un html)."
   ]
  },
  {
   "cell_type": "code",
   "execution_count": 26,
   "metadata": {},
   "outputs": [
    {
     "name": "stdout",
     "output_type": "stream",
     "text": [
      "{'FIVERR INTERNATIONAL LTD.': '4FC79989B1581434U', 'Lawal Ganiy': '0YH67521MN069303R', 'Mohamed Sellaki': '7U648492D3765863K', 'Red Pick Media': '4J188408UB7917540', 'Ajayi Ruth': '0SK943351R374253M'}\n",
      "['FIVERR INTERNATIONAL LTD.', 'FIVERR INTERNATIONAL LTD.', 'Lawal Ganiy', 'Mohamed Sellaki', 'Red Pick Media', 'FIVERR INTERNATIONAL LTD.', 'Red Pick Media', 'Ajayi Ruth']\n",
      "['12 jun.', '8 may.', '19 abr.', '13 abr.', '9 abr.', '8 abr.', '6 abr.', '18 mar.']\n",
      "['Pago recibido', 'Pago recibido', 'Dinero recibido', 'Dinero recibido', 'Dinero enviado', 'Pago recibido', 'Dinero recibido', 'Dinero recibido']\n",
      "['$270.39', '$32.00', '$25.24', '$70.00', '€21.9', '$76.00', '$47.21', '$47.00']\n",
      "['+ $270.39', '+ $32.00', '+ $25.24', '+ $70.00', '- €21.92EUR', '+ $76.00', '+ $47.21', '+ $47.00']\n",
      "{'18 mar.': '\"Freelance\"'}\n",
      "['https://www.paypal.com/myaccount/transactions/details/9U161792E4998173W', 'https://www.paypal.com/myaccount/transactions/details/4EF439847G193344H', 'https://www.paypal.com/myaccount/transactions/details/0YH67521MN069303R', 'https://www.paypal.com/myaccount/transactions/details/7U648492D3765863K', 'https://www.paypal.com/myaccount/transactions/details/9VD33702MP1063139', 'https://www.paypal.com/myaccount/transactions/details/4FC79989B1581434U', 'https://www.paypal.com/myaccount/transactions/details/4J188408UB7917540', 'https://www.paypal.com/myaccount/transactions/details/0SK943351R374253M']\n",
      "                      Nombre    Fecha             Tipo Cantidad       Efecto  \\\n",
      "0  FIVERR INTERNATIONAL LTD.  12 jun.    Pago recibido  $270.39    + $270.39   \n",
      "1  FIVERR INTERNATIONAL LTD.   8 may.    Pago recibido   $32.00     + $32.00   \n",
      "2                Lawal Ganiy  19 abr.  Dinero recibido   $25.24     + $25.24   \n",
      "3            Mohamed Sellaki  13 abr.  Dinero recibido   $70.00     + $70.00   \n",
      "4             Red Pick Media   9 abr.   Dinero enviado    €21.9  - €21.92EUR   \n",
      "5  FIVERR INTERNATIONAL LTD.   8 abr.    Pago recibido   $76.00     + $76.00   \n",
      "6             Red Pick Media   6 abr.  Dinero recibido   $47.21     + $47.21   \n",
      "7                 Ajayi Ruth  18 mar.  Dinero recibido   $47.00     + $47.00   \n",
      "\n",
      "       Mensaje                                           Detalles  \n",
      "0               https://www.paypal.com/myaccount/transactions/...  \n",
      "1               https://www.paypal.com/myaccount/transactions/...  \n",
      "2               https://www.paypal.com/myaccount/transactions/...  \n",
      "3               https://www.paypal.com/myaccount/transactions/...  \n",
      "4               https://www.paypal.com/myaccount/transactions/...  \n",
      "5               https://www.paypal.com/myaccount/transactions/...  \n",
      "6               https://www.paypal.com/myaccount/transactions/...  \n",
      "7  \"Freelance\"  https://www.paypal.com/myaccount/transactions/...  \n"
     ]
    }
   ],
   "source": [
    "#Leamos, procesemos y despleguemos la informacion de paypal\n",
    "\n",
    "with open(\"paypal_trans.html\", encoding=\"utf-8\") as ppt:\n",
    "    ppt_data = ppt.read()\n",
    "    soup = BeautifulSoup(ppt_data, \"html.parser\")\n",
    "    # print(soup.prettify())\n",
    "    \n",
    "   #this contains all transactions data of the page\n",
    "    container = soup.find(\"div\", attrs={\"data-testid\":\"activity-tile\"}) #container = soup.find(id=\"app\") takes too much childs\n",
    "    # print(container.prettify())\n",
    "     \n",
    "    #names of the other persons in the transactions. I take the id from the class name of the container of all the transactions, just taking this will be easier than looping from this general container but i will still be able to identify the transaction just in case. Yes, this is the real paypal transation id\n",
    "    #taking the name and the id together isntead of individual will make this more secure since we can now for sure that the id corresponds to this specific transaction\n",
    "    counterparties = {}\n",
    "    cnames = [] #the pandas dataframes does not accepts\n",
    "    for name in container.findAll('div',\n",
    "                                 attrs={\"data-cy\":'counterpartyName'}):\n",
    "        transaction_id = name.parent.parent.parent.parent[\"class\"][1][19:]\n",
    "        counterparties[name.text] = transaction_id\n",
    "        cnames.append(name.text)\n",
    "    print(counterparties)\n",
    "    print(cnames)\n",
    "    \n",
    "    #dates and info are together, i'll extract and separe them. This way is easier\n",
    "    dates = []\n",
    "    info = [] #type of transaction\n",
    "    for date in container.findAll('div',\n",
    "                                  attrs={\"transaction-date-type-status-container\"}):\n",
    "        date_info = date.text\n",
    "        dot = str.find(date_info,\".\")\n",
    "        dates.append(date_info[:dot+1])\n",
    "        info.append(date_info[dot+1:])\n",
    "    print(dates)\n",
    "    print(info)\n",
    "    \n",
    "    #amount of the transactions\n",
    "    amounts = []\n",
    "    change = [] #is the amount plus the symbol of subtraction or adittion as corresponds\n",
    "    for amount in container.findAll('div',\n",
    "                                 attrs={\"data-cy\":'transactionAmount'}):\n",
    "        amounts_change = amount.text\n",
    "        change.append(amounts_change)\n",
    "        if amounts_change[len(amounts_change)-1].isdigit() == True: #this is to delete the name of the currency from the end of the number (just in non USD trnasactions)\n",
    "            amounts.append(amounts_change[2:])\n",
    "        else:\n",
    "            amounts.append(amounts_change[2:len(amounts_change)-4])\n",
    "    print(amounts)\n",
    "    print(change)\n",
    "    \n",
    "    #messages left with the transaction\n",
    "    messages = {}\n",
    "    for message in container.findAll('div',\n",
    "                                 attrs={\"data-cy\":'notes'}):\n",
    "        # transaction_id = message.parent.parent.parent.parent[\"class\"][1][19:]\n",
    "        date_of_message = message.parent.parent.parent.parent.find(\n",
    "            'div', attrs={\"transaction-date-type-status-container\"}) #I take the date because is a lot easier to find the index using this (not every transaction have a message)\n",
    "        messages[date_of_message.text[:str.find(date_of_message.text, \".\")+1]] = message.text\n",
    "    print(messages)\n",
    "        \n",
    "    #every transaction have a link to acces to a very more detailed info about them, here is get this link. In the link i can find things like paypal comision, counterparty contact info, counterparty direction and transaction id\n",
    "    details_links = []\n",
    "    for counterpart in container.findAll('div',\n",
    "                                 attrs={\"data-cy\":'counterpartyName'}): #i take part of the classes name to find them\n",
    "        details = counterpart.parent.parent.parent.parent\n",
    "        details_links.append(\"https://www.paypal.com\"+details[\"data-href\"])\n",
    "    print(details_links)\n",
    "    \n",
    "    #Use pandas to create the .csv\n",
    "    messages2 = [] #lets make the messages dictionary bigger,a list and with the correct index to make it adecuate for the data frame\n",
    "    for date in dates:\n",
    "        if date not in messages:\n",
    "            messages2.append(\"\")\n",
    "        else:\n",
    "            messages2.append(messages[date])\n",
    "    info = {\"Nombre\": cnames, \"Fecha\": dates, \"Tipo\":info, \"Cantidad\":amounts, \"Efecto\":change, \"Mensaje\": messages2,\"Detalles\":details_links}\n",
    "    df = pd.DataFrame(data = info)\n",
    "    print(df)\n",
    "    df.to_csv('paypal_data.csv')#, index=False, sep=\"\\t\")\n"
   ]
  },
  {
   "cell_type": "code",
   "execution_count": 40,
   "metadata": {},
   "outputs": [],
   "source": [
    "#imports\n",
    "import matplotlib.pyplot as plt\n",
    "import pandas as pd\n",
    "import numpy as np"
   ]
  },
  {
   "cell_type": "markdown",
   "metadata": {},
   "source": [
    "Debajo están las evaluaciones de la cuenta de paypal"
   ]
  },
  {
   "cell_type": "code",
   "execution_count": 41,
   "metadata": {},
   "outputs": [
    {
     "name": "stdout",
     "output_type": "stream",
     "text": [
      "['Unnamed: 0', 'Nombre', 'Fecha', 'Tipo', 'Cantidad', 'Efecto', 'Mensaje', 'Detalles']\n"
     ]
    }
   ],
   "source": [
    "#leer csv, pandas\n",
    "df = pd.read_csv(\"paypal_data.csv\")\n",
    "# print(df.head())\n",
    "print(df.columns.tolist())\n"
   ]
  },
  {
   "cell_type": "code",
   "execution_count": 151,
   "metadata": {},
   "outputs": [
    {
     "name": "stdout",
     "output_type": "stream",
     "text": [
      "['270.39$', '32.00$', '25.24$', '70.00$', '21.9$', '76.00$', '47.21$', '47.00$']\n",
      "[6.12, 5.8, 4.19, 4.13, 4.9, 4.8, 4.6, 3.18]\n"
     ]
    },
    {
     "data": {
      "image/png": "[encoded data removed]",
      "text/plain": [
       "<Figure size 432x288 with 1 Axes>"
      ]
     },
     "metadata": {
      "needs_background": "light"
     },
     "output_type": "display_data"
    },
    {
     "data": {
      "text/plain": [
       "([<matplotlib.axis.XTick at 0x1d5d47922e0>,\n",
       "  <matplotlib.axis.XTick at 0x1d5d4792940>,\n",
       "  <matplotlib.axis.XTick at 0x1d5d4792c10>,\n",
       "  <matplotlib.axis.XTick at 0x1d5d6879a90>,\n",
       "  <matplotlib.axis.XTick at 0x1d5d6899220>,\n",
       "  <matplotlib.axis.XTick at 0x1d5d6879c40>,\n",
       "  <matplotlib.axis.XTick at 0x1d5d6899a90>,\n",
       "  <matplotlib.axis.XTick at 0x1d5d6896220>],\n",
       " [Text(0.0, 0, '6.12'),\n",
       "  Text(1.0, 0, '5.8'),\n",
       "  Text(2.0, 0, '4.19'),\n",
       "  Text(3.0, 0, '4.13'),\n",
       "  Text(4.0, 0, '4.9'),\n",
       "  Text(5.0, 0, '4.8'),\n",
       "  Text(6.0, 0, '4.6'),\n",
       "  Text(7.0, 0, '3.18')])"
      ]
     },
     "execution_count": 151,
     "metadata": {},
     "output_type": "execute_result"
    },
    {
     "data": {
      "image/png": "[encoded data removed]",
      "text/plain": [
       "<Figure size 432x288 with 1 Axes>"
      ]
     },
     "metadata": {
      "needs_background": "light"
     },
     "output_type": "display_data"
    }
   ],
   "source": [
    "#Matplotlib\n",
    "amount = []\n",
    "for earn in df[\"Cantidad\"]:\n",
    "    amount.append(earn[1:]+\"$\")\n",
    "print(amount)\n",
    "dates = []\n",
    "for date in df[\"Fecha\"]:\n",
    "    month = {\n",
    "        'ene.': \"1\",\n",
    "        'feb.': \"2\",\n",
    "        'mar.': \"3\",\n",
    "        'abr.': \"4\",\n",
    "        'may.': \"5\",\n",
    "        'jun.': \"6\",\n",
    "        'jul.': \"7\",\n",
    "        'ago.': \"8\",\n",
    "        'sep.': \"9\",\n",
    "        'oct.': \"10\",\n",
    "        'nov.': \"11\",\n",
    "        'dic.': \"12\"\n",
    "        }\n",
    "    dates.append(float(\"{0}.{1}\".format(month[date[str.find(date,\" \")+1:]],date[:2])))\n",
    "print(dates)\n",
    "plot1 = plt.subplot()\n",
    "plot1.plot(dates, amount, 'g--d') #g--d == green diamond; sorted(amount) organizaría la lista\n",
    "# plot1.invert_xaxis()\n",
    "plot1.invert_yaxis()\n",
    "plt.ylabel('Ganancias en el tiempo')\n",
    "plt.xlabel('Mes.dia')\n",
    "plt.show()\n",
    "\n",
    "# plt.bar(amount, height=amount)\n",
    "# plt.xticks(amount, dates)\n"
   ]
  },
  {
   "cell_type": "markdown",
   "metadata": {},
   "source": [
    "Debajo están las evaluaciones de la cuenta de Banreservas"
   ]
  },
  {
   "cell_type": "code",
   "execution_count": null,
   "metadata": {},
   "outputs": [],
   "source": [
    "#leer csv, pandas\n"
   ]
  },
  {
   "cell_type": "code",
   "execution_count": null,
   "metadata": {},
   "outputs": [],
   "source": [
    "#Matplotlib\n"
   ]
  },
  {
   "cell_type": "markdown",
   "metadata": {},
   "source": [
    "Primero hay un bloque que le da formato a todos los csv en una copia para que todos los datos puedan ser leidos juntos. Luego:\n",
    "\n",
    "Debajo están las evaluaciones de la cuenta en conjunto. Todos mis datos financieros. "
   ]
  },
  {
   "cell_type": "code",
   "execution_count": null,
   "metadata": {},
   "outputs": [],
   "source": [
    "#dar formato a todos los csv de las cuentas. adaptar las dimesiones en largo, número y nombre de columnas"
   ]
  },
  {
   "cell_type": "code",
   "execution_count": null,
   "metadata": {},
   "outputs": [],
   "source": [
    "#Matplotlib\n"
   ]
  }
 ],
 "metadata": {
  "kernelspec": {
   "display_name": "Python 3.8.2 64-bit",
   "language": "python",
   "name": "python3"
  },
  "language_info": {
   "codemirror_mode": {
    "name": "ipython",
    "version": 3
   },
   "file_extension": ".py",
   "mimetype": "text/x-python",
   "name": "python",
   "nbconvert_exporter": "python",
   "pygments_lexer": "ipython3",
   "version": "3.8.2"
  },
  "orig_nbformat": 4,
  "vscode": {
   "interpreter": {
    "hash": "8d2a7655c49a9c1841ae44cbbf28904a98f582206c02b96d6d9e4413cb29765c"
   }
  }
 },
 "nbformat": 4,
 "nbformat_minor": 2
}
